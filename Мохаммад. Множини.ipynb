{
 "cells": [
  {
   "cell_type": "code",
   "execution_count": 1,
   "id": "184e4cd2",
   "metadata": {},
   "outputs": [],
   "source": [
    "total_students = 37\n",
    "math = 15\n",
    "physics = 16\n",
    "chemistry = 19\n",
    "math_and_physics = 7\n",
    "math_and_chemistry = 9\n",
    "physics_and_chemistry = 6\n",
    "math_physics_chemistry = 4"
   ]
  },
  {
   "cell_type": "code",
   "execution_count": 2,
   "id": "aca3b0b4",
   "metadata": {},
   "outputs": [],
   "source": [
    "# розраховуємо перетин множин двох предметів, але без кількості студентів, що отримали \"відмінно\" за всі предмети\n",
    "intersection_only_math_and_physics = math_and_physics - math_physics_chemistry\n",
    "intersection_only_math_and_chemistry = math_and_chemistry - math_physics_chemistry\n",
    "intersection_only_physics_and_chemistry = physics_and_chemistry - math_physics_chemistry"
   ]
  },
  {
   "cell_type": "code",
   "execution_count": 3,
   "id": "1eaa48b2",
   "metadata": {},
   "outputs": [],
   "source": [
    "# розраховуємо кількість студентів, що отримали бали \"відмінно\" лише за математику, лише за хімію та фізику\n",
    "only_math = math - intersection_only_math_and_physics - intersection_only_math_and_chemistry - math_physics_chemistry\n",
    "only_physics = physics - intersection_only_math_and_physics - intersection_only_physics_and_chemistry - math_physics_chemistry\n",
    "only_chemistry = chemistry - intersection_only_math_and_chemistry - intersection_only_physics_and_chemistry - math_physics_chemistry"
   ]
  },
  {
   "cell_type": "code",
   "execution_count": 6,
   "id": "34e76643",
   "metadata": {},
   "outputs": [
    {
     "name": "stdout",
     "output_type": "stream",
     "text": [
      "32\n"
     ]
    }
   ],
   "source": [
    "# кіль-сть студентів, що отримали принаймні одну оцінку \"відмінно\"\n",
    "at_least_one_perfect = only_math + only_physics + only_chemistry + intersection_only_math_and_physics + intersection_only_math_and_chemistry + intersection_only_physics_and_chemistry + math_physics_chemistry\n",
    "print(at_least_one_perfect)"
   ]
  },
  {
   "cell_type": "code",
   "execution_count": null,
   "id": "f4c0028f",
   "metadata": {},
   "outputs": [],
   "source": []
  },
  {
   "cell_type": "code",
   "execution_count": 7,
   "id": "e5be5942",
   "metadata": {},
   "outputs": [],
   "source": [
    "days = 30\n",
    "rain = 12\n",
    "wind = 8\n",
    "cold = 4\n",
    "rain_wind = 5\n",
    "rain_cold = 3\n",
    "wind_cold = 2\n",
    "rain_wind_cold = 1"
   ]
  },
  {
   "cell_type": "code",
   "execution_count": 8,
   "id": "99b5e212",
   "metadata": {},
   "outputs": [],
   "source": [
    "# розраховуємо перетин множин двох опадів, але без кількості днів, коли були всі опади\n",
    "intersection_only_rain_wind = rain_wind - rain_wind_cold\n",
    "intersection_only_rain_cold = rain_cold - rain_wind_cold\n",
    "intersection_only_wind_cold = wind_cold - rain_wind_cold"
   ]
  },
  {
   "cell_type": "code",
   "execution_count": 9,
   "id": "8d713ff6",
   "metadata": {},
   "outputs": [],
   "source": [
    "# розраховуємо кількість днів, коли був лише дощ, вітер та холод\n",
    "only_rain = rain - intersection_only_rain_wind - intersection_only_rain_cold - rain_wind_cold\n",
    "only_wind = wind - intersection_only_rain_wind - intersection_only_wind_cold - rain_wind_cold\n",
    "only_cold = cold - intersection_only_rain_cold - intersection_only_wind_cold - rain_wind_cold"
   ]
  },
  {
   "cell_type": "code",
   "execution_count": 10,
   "id": "53bb799d",
   "metadata": {},
   "outputs": [
    {
     "name": "stdout",
     "output_type": "stream",
     "text": [
      "15\n"
     ]
    }
   ],
   "source": [
    "# кіль-сть днів, коли були хоч одні опади\n",
    "at_least_one_day = only_rain + only_wind + only_cold + intersection_only_rain_wind + intersection_only_rain_cold + intersection_only_wind_cold + rain_wind_cold\n",
    "print(at_least_one_day)"
   ]
  },
  {
   "cell_type": "code",
   "execution_count": 11,
   "id": "0ed2b7cf",
   "metadata": {},
   "outputs": [
    {
     "name": "stdout",
     "output_type": "stream",
     "text": [
      "15\n"
     ]
    }
   ],
   "source": [
    "# кількість днів з хорошою погодою\n",
    "good_weather = days - at_least_one_day\n",
    "print(good_weather)"
   ]
  },
  {
   "cell_type": "code",
   "execution_count": null,
   "id": "6ff892a6",
   "metadata": {},
   "outputs": [],
   "source": []
  }
 ],
 "metadata": {
  "kernelspec": {
   "display_name": "Python 3 (ipykernel)",
   "language": "python",
   "name": "python3"
  },
  "language_info": {
   "codemirror_mode": {
    "name": "ipython",
    "version": 3
   },
   "file_extension": ".py",
   "mimetype": "text/x-python",
   "name": "python",
   "nbconvert_exporter": "python",
   "pygments_lexer": "ipython3",
   "version": "3.9.13"
  }
 },
 "nbformat": 4,
 "nbformat_minor": 5
}
